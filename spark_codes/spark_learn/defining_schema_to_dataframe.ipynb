{
 "metadata": {
  "language_info": {
   "codemirror_mode": {
    "name": "ipython",
    "version": 3
   },
   "file_extension": ".py",
   "mimetype": "text/x-python",
   "name": "python",
   "nbconvert_exporter": "python",
   "pygments_lexer": "ipython3",
   "version": "3.8.6-final"
  },
  "orig_nbformat": 2,
  "kernelspec": {
   "name": "python3",
   "display_name": "Python 3"
  }
 },
 "nbformat": 4,
 "nbformat_minor": 2,
 "cells": [
  {
   "cell_type": "code",
   "execution_count": 1,
   "metadata": {},
   "outputs": [
    {
     "output_type": "stream",
     "name": "stdout",
     "text": [
      "marks.csv  marks_without_header.csv  weatherHistory.csv\n"
     ]
    }
   ],
   "source": [
    "!ls *.csv"
   ]
  },
  {
   "cell_type": "code",
   "execution_count": 2,
   "metadata": {},
   "outputs": [
    {
     "output_type": "stream",
     "name": "stdout",
     "text": [
      "1001|MALE|ENGLISH|84|100\n1001|MALE|Physics|65|100\n1001|MALE|Maths|45|100\n1001|MALE|Science|25|100\n1001|MALE|History|32|100\n"
     ]
    }
   ],
   "source": [
    "cat marks_without_header.csv |head -5"
   ]
  },
  {
   "source": [
    "## SO there is no schema/header defined to the  csv file"
   ],
   "cell_type": "markdown",
   "metadata": {}
  },
  {
   "source": [
    "## Lets try adding schema to the dataframe"
   ],
   "cell_type": "markdown",
   "metadata": {}
  },
  {
   "source": [
    "#### Method 1 : Using RDD"
   ],
   "cell_type": "markdown",
   "metadata": {}
  },
  {
   "cell_type": "code",
   "execution_count": 3,
   "metadata": {},
   "outputs": [],
   "source": [
    "from pyspark.sql import SparkSession"
   ]
  },
  {
   "cell_type": "code",
   "execution_count": 4,
   "metadata": {},
   "outputs": [],
   "source": [
    "spark = SparkSession.builder.appName(\"define_schema\").getOrCreate()\n",
    "sc = spark.sparkContext"
   ]
  },
  {
   "cell_type": "code",
   "execution_count": 5,
   "metadata": {},
   "outputs": [],
   "source": [
    "rdd_in = sc.textFile(\"marks_without_header.csv\")"
   ]
  },
  {
   "cell_type": "code",
   "execution_count": 6,
   "metadata": {},
   "outputs": [
    {
     "output_type": "execute_result",
     "data": {
      "text/plain": [
       "['1001|MALE|ENGLISH|84|100',\n",
       " '1001|MALE|Physics|65|100',\n",
       " '1001|MALE|Maths|45|100',\n",
       " '1001|MALE|Science|25|100',\n",
       " '1001|MALE|History|32|100',\n",
       " '1002|FEMALE|ENGLISH|84|100',\n",
       " '1002|FEMALE|Physics|64|100',\n",
       " '1002|FEMALE|Maths|45|100',\n",
       " '1002|FEMALE|Science|25|100',\n",
       " '1002|FEMALE|History|32|100']"
      ]
     },
     "metadata": {},
     "execution_count": 6
    }
   ],
   "source": [
    "rdd_in.collect()"
   ]
  },
  {
   "cell_type": "code",
   "execution_count": 8,
   "metadata": {},
   "outputs": [],
   "source": [
    "rdd_in_split_on_delimiter = rdd_in.map(lambda x:x.split(\"|\"))"
   ]
  },
  {
   "cell_type": "code",
   "execution_count": 9,
   "metadata": {},
   "outputs": [
    {
     "output_type": "execute_result",
     "data": {
      "text/plain": [
       "[['1001', 'MALE', 'ENGLISH', '84', '100'],\n",
       " ['1001', 'MALE', 'Physics', '65', '100'],\n",
       " ['1001', 'MALE', 'Maths', '45', '100'],\n",
       " ['1001', 'MALE', 'Science', '25', '100'],\n",
       " ['1001', 'MALE', 'History', '32', '100'],\n",
       " ['1002', 'FEMALE', 'ENGLISH', '84', '100'],\n",
       " ['1002', 'FEMALE', 'Physics', '64', '100'],\n",
       " ['1002', 'FEMALE', 'Maths', '45', '100'],\n",
       " ['1002', 'FEMALE', 'Science', '25', '100'],\n",
       " ['1002', 'FEMALE', 'History', '32', '100']]"
      ]
     },
     "metadata": {},
     "execution_count": 9
    }
   ],
   "source": [
    "rdd_in_split_on_delimiter.collect()"
   ]
  },
  {
   "cell_type": "code",
   "execution_count": 10,
   "metadata": {},
   "outputs": [
    {
     "output_type": "stream",
     "name": "stdout",
     "text": [
      "['ROLL_NO', 'GENDER', 'SUBJECT', 'MARKS_OBTAINED', 'TOTAL_MARKS']\n"
     ]
    }
   ],
   "source": [
    "# Creating a DataFrame and passing the header name\n",
    "header_col = 'ROLL_NO|GENDER|SUBJECT|MARKS_OBTAINED|TOTAL_MARKS'.split(\"|\")\n",
    "print(header_col)"
   ]
  },
  {
   "cell_type": "code",
   "execution_count": 11,
   "metadata": {},
   "outputs": [],
   "source": [
    "df_with_header = spark.createDataFrame(rdd_in_split_on_delimiter,header_col)"
   ]
  },
  {
   "cell_type": "code",
   "execution_count": 12,
   "metadata": {},
   "outputs": [
    {
     "output_type": "stream",
     "name": "stdout",
     "text": [
      "+-------+------+-------+--------------+-----------+\n|ROLL_NO|GENDER|SUBJECT|MARKS_OBTAINED|TOTAL_MARKS|\n+-------+------+-------+--------------+-----------+\n|   1001|  MALE|ENGLISH|            84|        100|\n|   1001|  MALE|Physics|            65|        100|\n|   1001|  MALE|  Maths|            45|        100|\n|   1001|  MALE|Science|            25|        100|\n|   1001|  MALE|History|            32|        100|\n|   1002|FEMALE|ENGLISH|            84|        100|\n|   1002|FEMALE|Physics|            64|        100|\n|   1002|FEMALE|  Maths|            45|        100|\n|   1002|FEMALE|Science|            25|        100|\n|   1002|FEMALE|History|            32|        100|\n+-------+------+-------+--------------+-----------+\n\n"
     ]
    }
   ],
   "source": [
    "df_with_header.show()"
   ]
  },
  {
   "source": [
    "## Method 2 : By defining StuctType"
   ],
   "cell_type": "markdown",
   "metadata": {}
  },
  {
   "cell_type": "code",
   "execution_count": 13,
   "metadata": {},
   "outputs": [],
   "source": [
    "from pyspark.sql.types import *"
   ]
  },
  {
   "cell_type": "code",
   "execution_count": 15,
   "metadata": {},
   "outputs": [],
   "source": [
    "sch  = StructType([\n",
    "    StructField(\"ROLL_NO\",IntegerType(),nullable=True),\n",
    "    StructField(\"GENDER\",StringType(),nullable=True),\n",
    "    StructField(\"SUBJECT\",StringType(),nullable=True),\n",
    "    StructField(\"MARKS_OBTAINED\",IntegerType(),nullable=True),\n",
    "    StructField(\"TOTAL_MARKS\",IntegerType(),nullable=True)\n",
    "    \n",
    "])"
   ]
  },
  {
   "cell_type": "code",
   "execution_count": 16,
   "metadata": {},
   "outputs": [],
   "source": [
    "df_with_schema = spark.read.csv(\"marks_without_header.csv\",sep='|',schema=sch)"
   ]
  },
  {
   "cell_type": "code",
   "execution_count": 18,
   "metadata": {},
   "outputs": [
    {
     "output_type": "stream",
     "name": "stdout",
     "text": [
      "root\n |-- ROLL_NO: integer (nullable = true)\n |-- GENDER: string (nullable = true)\n |-- SUBJECT: string (nullable = true)\n |-- MARKS_OBTAINED: integer (nullable = true)\n |-- TOTAL_MARKS: integer (nullable = true)\n\n"
     ]
    }
   ],
   "source": [
    "df_with_schema.printSchema()"
   ]
  },
  {
   "cell_type": "code",
   "execution_count": 19,
   "metadata": {},
   "outputs": [
    {
     "output_type": "stream",
     "name": "stdout",
     "text": [
      "+-------+------+-------+--------------+-----------+\n|ROLL_NO|GENDER|SUBJECT|MARKS_OBTAINED|TOTAL_MARKS|\n+-------+------+-------+--------------+-----------+\n|   1001|  MALE|ENGLISH|            84|        100|\n|   1001|  MALE|Physics|            65|        100|\n|   1001|  MALE|  Maths|            45|        100|\n|   1001|  MALE|Science|            25|        100|\n|   1001|  MALE|History|            32|        100|\n|   1002|FEMALE|ENGLISH|            84|        100|\n|   1002|FEMALE|Physics|            64|        100|\n|   1002|FEMALE|  Maths|            45|        100|\n|   1002|FEMALE|Science|            25|        100|\n|   1002|FEMALE|History|            32|        100|\n+-------+------+-------+--------------+-----------+\n\n"
     ]
    }
   ],
   "source": [
    "df_with_schema.show()"
   ]
  },
  {
   "cell_type": "code",
   "execution_count": 20,
   "metadata": {},
   "outputs": [
    {
     "output_type": "stream",
     "name": "stdout",
     "text": [
      "root\n |-- ROLL_NO: string (nullable = true)\n |-- GENDER: string (nullable = true)\n |-- SUBJECT: string (nullable = true)\n |-- MARKS_OBTAINED: string (nullable = true)\n |-- TOTAL_MARKS: string (nullable = true)\n\n"
     ]
    }
   ],
   "source": [
    "df_with_header.printSchema()"
   ]
  },
  {
   "cell_type": "code",
   "execution_count": null,
   "metadata": {},
   "outputs": [],
   "source": []
  }
 ]
}