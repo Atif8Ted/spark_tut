{
 "cells": [
  {
   "cell_type": "code",
   "execution_count": 1,
   "metadata": {},
   "outputs": [
    {
     "name": "stdout",
     "output_type": "stream",
     "text": [
      "total 5640\r\n",
      "-rw-r--r-- 1 atif atif 5769361 Nov 14 21:17 weatherHistory.csv\r\n",
      "-rw-r--r-- 1 atif atif      72 Nov 14 21:17 Handling_missing_values.ipynb\r\n"
     ]
    }
   ],
   "source": [
    "! ls -ltr"
   ]
  },
  {
   "cell_type": "code",
   "execution_count": 2,
   "metadata": {},
   "outputs": [],
   "source": [
    "from pyspark.sql import SparkSession\n",
    "spark = SparkSession.builder.master(\"local\").appName(\"Missing_value Handling\")\\\n",
    ".getOrCreate()"
   ]
  },
  {
   "cell_type": "code",
   "execution_count": 3,
   "metadata": {},
   "outputs": [],
   "source": [
    "out_valid_path =\"valid\"\n",
    "out_invalid_path =\"invalid\"\n"
   ]
  },
  {
   "cell_type": "code",
   "execution_count": 4,
   "metadata": {},
   "outputs": [],
   "source": [
    "df_in = spark.read.csv(\"weatherHistory.csv\",header=True)"
   ]
  },
  {
   "cell_type": "code",
   "execution_count": 5,
   "metadata": {},
   "outputs": [
    {
     "data": {
      "text/plain": [
       "DataFrame[DateTime: string, Temperature (C): string, Humidity: string, Wind Speed (km/h): string, Pressure (millibars): string, Summary: string]"
      ]
     },
     "execution_count": 5,
     "metadata": {},
     "output_type": "execute_result"
    }
   ],
   "source": [
    "#caching df_in\n",
    "df_in.cache()"
   ]
  },
  {
   "cell_type": "code",
   "execution_count": 6,
   "metadata": {},
   "outputs": [
    {
     "name": "stdout",
     "output_type": "stream",
     "text": [
      "+---------------+---------------+--------+-----------------+--------------------+-------------+\n",
      "|       DateTime|Temperature (C)|Humidity|Wind Speed (km/h)|Pressure (millibars)|      Summary|\n",
      "+---------------+---------------+--------+-----------------+--------------------+-------------+\n",
      "|4/1/06 12:00 AM|    9.472222222|    0.89|          14.1197|             1015.13|Partly Cloudy|\n",
      "| 4/1/06 1:00 AM|    9.355555556|    0.86|          14.2646|             1015.63|Partly Cloudy|\n",
      "| 4/1/06 2:00 AM|    9.377777778|    0.89|           3.9284|             1015.94|Mostly Cloudy|\n",
      "| 4/1/06 3:00 AM|    8.288888889|    0.83|          14.1036|                null|Partly Cloudy|\n",
      "| 4/1/06 4:00 AM|    8.755555556|    0.83|          11.0446|             1016.51|Mostly Cloudy|\n",
      "| 4/1/06 5:00 AM|    9.222222222|    0.85|          13.9587|             1016.66|Partly Cloudy|\n",
      "| 4/1/06 6:00 AM|    7.733333333|    0.95|          12.3648|             1016.72|Partly Cloudy|\n",
      "| 4/1/06 7:00 AM|    8.772222222|    0.89|          14.1519|             1016.84|Partly Cloudy|\n",
      "| 4/1/06 8:00 AM|    10.82222222|    0.82|          11.3183|             1017.37|Partly Cloudy|\n",
      "| 4/1/06 9:00 AM|    13.77222222|    0.72|          12.5258|             1017.22|Partly Cloudy|\n",
      "|4/1/06 10:00 AM|    16.01666667|    0.67|          17.5651|             1017.42|Partly Cloudy|\n",
      "|4/1/06 11:00 AM|    17.14444444|    0.54|          19.7869|             1017.74|Partly Cloudy|\n",
      "|4/1/06 12:00 PM|           null|    0.55|          21.9443|             1017.59|Partly Cloudy|\n",
      "| 4/1/06 1:00 PM|    17.33333333|    0.51|          20.6885|             1017.48|Partly Cloudy|\n",
      "| 4/1/06 2:00 PM|    18.87777778|    0.47|          15.3755|             1017.17|Partly Cloudy|\n",
      "| 4/1/06 3:00 PM|    18.91111111|    0.46|          10.4006|             1016.47|Partly Cloudy|\n",
      "| 4/1/06 4:00 PM|    15.38888889|     0.6|          14.4095|             1016.15|Partly Cloudy|\n",
      "| 4/1/06 5:00 PM|          15.55|    0.63|             null|             1016.17|Mostly Cloudy|\n",
      "| 4/1/06 6:00 PM|    14.25555556|    0.69|           8.5169|             1015.82|Mostly Cloudy|\n",
      "| 4/1/06 7:00 PM|    13.14444444|     0.7|           7.6314|             1015.83|Mostly Cloudy|\n",
      "+---------------+---------------+--------+-----------------+--------------------+-------------+\n",
      "only showing top 20 rows\n",
      "\n"
     ]
    }
   ],
   "source": [
    "df_in.show()"
   ]
  },
  {
   "cell_type": "code",
   "execution_count": 7,
   "metadata": {},
   "outputs": [],
   "source": [
    "df_valid =df_in.filter(\"`Temperature (C)` is not null and Humidity is not null and \\\n",
    "                       `Wind Speed (km/h)` is not null and `Pressure (millibars)` is not null \\\n",
    "                       and Summary is not null\")"
   ]
  },
  {
   "cell_type": "code",
   "execution_count": 9,
   "metadata": {},
   "outputs": [
    {
     "name": "stdout",
     "output_type": "stream",
     "text": [
      "+---------------+---------------+--------+-----------------+--------------------+-------------+\n",
      "|       DateTime|Temperature (C)|Humidity|Wind Speed (km/h)|Pressure (millibars)|      Summary|\n",
      "+---------------+---------------+--------+-----------------+--------------------+-------------+\n",
      "|4/1/06 12:00 AM|    9.472222222|    0.89|          14.1197|             1015.13|Partly Cloudy|\n",
      "| 4/1/06 1:00 AM|    9.355555556|    0.86|          14.2646|             1015.63|Partly Cloudy|\n",
      "| 4/1/06 2:00 AM|    9.377777778|    0.89|           3.9284|             1015.94|Mostly Cloudy|\n",
      "| 4/1/06 4:00 AM|    8.755555556|    0.83|          11.0446|             1016.51|Mostly Cloudy|\n",
      "| 4/1/06 5:00 AM|    9.222222222|    0.85|          13.9587|             1016.66|Partly Cloudy|\n",
      "| 4/1/06 6:00 AM|    7.733333333|    0.95|          12.3648|             1016.72|Partly Cloudy|\n",
      "| 4/1/06 7:00 AM|    8.772222222|    0.89|          14.1519|             1016.84|Partly Cloudy|\n",
      "| 4/1/06 8:00 AM|    10.82222222|    0.82|          11.3183|             1017.37|Partly Cloudy|\n",
      "| 4/1/06 9:00 AM|    13.77222222|    0.72|          12.5258|             1017.22|Partly Cloudy|\n",
      "|4/1/06 10:00 AM|    16.01666667|    0.67|          17.5651|             1017.42|Partly Cloudy|\n",
      "|4/1/06 11:00 AM|    17.14444444|    0.54|          19.7869|             1017.74|Partly Cloudy|\n",
      "| 4/1/06 1:00 PM|    17.33333333|    0.51|          20.6885|             1017.48|Partly Cloudy|\n",
      "| 4/1/06 2:00 PM|    18.87777778|    0.47|          15.3755|             1017.17|Partly Cloudy|\n",
      "| 4/1/06 3:00 PM|    18.91111111|    0.46|          10.4006|             1016.47|Partly Cloudy|\n",
      "| 4/1/06 4:00 PM|    15.38888889|     0.6|          14.4095|             1016.15|Partly Cloudy|\n",
      "| 4/1/06 6:00 PM|    14.25555556|    0.69|           8.5169|             1015.82|Mostly Cloudy|\n",
      "| 4/1/06 7:00 PM|    13.14444444|     0.7|           7.6314|             1015.83|Mostly Cloudy|\n",
      "| 4/1/06 8:00 PM|          11.55|    0.77|           7.3899|             1015.85|Mostly Cloudy|\n",
      "| 4/1/06 9:00 PM|    11.18333333|    0.76|           4.9266|             1015.77|Mostly Cloudy|\n",
      "|4/1/06 10:00 PM|    10.11666667|    0.79|           6.6493|              1015.4|Partly Cloudy|\n",
      "+---------------+---------------+--------+-----------------+--------------------+-------------+\n",
      "only showing top 20 rows\n",
      "\n"
     ]
    }
   ],
   "source": [
    "df_valid.show()"
   ]
  },
  {
   "cell_type": "code",
   "execution_count": 12,
   "metadata": {},
   "outputs": [],
   "source": [
    "df_invalid =df_in.filter(\"`Temperature (C)` is  null or Humidity is null or  \\\n",
    "                       `Wind Speed (km/h)` is  null or `Pressure (millibars)` is  null \\\n",
    "                       or Summary is  null\")"
   ]
  },
  {
   "cell_type": "code",
   "execution_count": 13,
   "metadata": {},
   "outputs": [
    {
     "name": "stdout",
     "output_type": "stream",
     "text": [
      "+-----------------+---------------+--------+-----------------+--------------------+-------------+\n",
      "|         DateTime|Temperature (C)|Humidity|Wind Speed (km/h)|Pressure (millibars)|      Summary|\n",
      "+-----------------+---------------+--------+-----------------+--------------------+-------------+\n",
      "|   4/1/06 3:00 AM|    8.288888889|    0.83|          14.1036|                null|Partly Cloudy|\n",
      "|  4/1/06 12:00 PM|           null|    0.55|          21.9443|             1017.59|Partly Cloudy|\n",
      "|   4/1/06 5:00 PM|          15.55|    0.63|             null|             1016.17|Mostly Cloudy|\n",
      "|  4/1/06 11:00 PM|           10.2|    null|           3.9284|             1015.51|Mostly Cloudy|\n",
      "| 4/20/06 11:00 PM|           null|    null|             null|             1016.38|Mostly Cloudy|\n",
      "| 7/28/07 11:00 PM|           null|    null|             null|                null|Mostly Cloudy|\n",
      "|  7/29/07 9:00 AM|           null|    0.55|          20.6885|             1014.65|Mostly Cloudy|\n",
      "|12/17/08 12:00 PM|           null|    null|          29.3503|             1012.41|Mostly Cloudy|\n",
      "| 12/17/08 9:00 PM|    7.733333333|    0.86|             null|                null|     Overcast|\n",
      "|  3/21/12 2:00 PM|           null|    0.21|             16.1|              1032.7|        Clear|\n",
      "|  3/21/12 7:00 PM|    11.56111111|    0.37|             null|             1031.82|        Clear|\n",
      "| 3/21/12 10:00 PM|           null|    0.48|           3.4776|                null|        Clear|\n",
      "|  3/22/12 1:00 AM|    6.183333333|    null|             3.22|             1032.51|        Clear|\n",
      "| 7/17/13 11:00 PM|           null|    0.73|           3.0429|             1020.42|        Clear|\n",
      "|  7/18/13 2:00 AM|    14.81111111|    0.94|             null|             1020.62|        Clear|\n",
      "|  7/18/13 6:00 AM|    14.91666667|    null|             3.22|                null|        Clear|\n",
      "|   3/2/15 5:00 PM|    9.905555556|    null|          14.5383|                null|     Overcast|\n",
      "|  3/20/15 3:00 AM|           null|    0.85|             null|             1025.55|Partly Cloudy|\n",
      "|  5/14/15 5:00 AM|           null|    0.91|           1.9642|             1007.84|Mostly Cloudy|\n",
      "|  5/14/15 4:00 PM|    22.75555556|    0.53|             null|             1007.69|Partly Cloudy|\n",
      "+-----------------+---------------+--------+-----------------+--------------------+-------------+\n",
      "only showing top 20 rows\n",
      "\n"
     ]
    }
   ],
   "source": [
    "df_invalid.show()"
   ]
  },
  {
   "cell_type": "code",
   "execution_count": 14,
   "metadata": {},
   "outputs": [],
   "source": [
    "# Writing the valid and invalid records to respetive directory"
   ]
  },
  {
   "cell_type": "code",
   "execution_count": 15,
   "metadata": {},
   "outputs": [],
   "source": [
    "df_valid.write.mode('overwrite').format('csv').option(\"header\",True).save(out_valid_path)"
   ]
  },
  {
   "cell_type": "code",
   "execution_count": 16,
   "metadata": {},
   "outputs": [],
   "source": [
    "df_invalid.write.mode('overwrite').format('csv').option(\"header\",True).save(out_invalid_path)"
   ]
  },
  {
   "cell_type": "code",
   "execution_count": null,
   "metadata": {},
   "outputs": [],
   "source": []
  }
 ],
 "metadata": {
  "kernelspec": {
   "display_name": "Python 3",
   "language": "python",
   "name": "python3"
  },
  "language_info": {
   "codemirror_mode": {
    "name": "ipython",
    "version": 3
   },
   "file_extension": ".py",
   "mimetype": "text/x-python",
   "name": "python",
   "nbconvert_exporter": "python",
   "pygments_lexer": "ipython3",
   "version": "3.8.6"
  }
 },
 "nbformat": 4,
 "nbformat_minor": 4
}
