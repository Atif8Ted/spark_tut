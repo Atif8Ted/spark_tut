{
 "metadata": {
  "language_info": {
   "codemirror_mode": {
    "name": "ipython",
    "version": 3
   },
   "file_extension": ".py",
   "mimetype": "text/x-python",
   "name": "python",
   "nbconvert_exporter": "python",
   "pygments_lexer": "ipython3",
   "version": "3.8.6-final"
  },
  "orig_nbformat": 2,
  "kernelspec": {
   "name": "python3",
   "display_name": "Python 3"
  }
 },
 "nbformat": 4,
 "nbformat_minor": 2,
 "cells": [
  {
   "cell_type": "code",
   "execution_count": 1,
   "metadata": {},
   "outputs": [],
   "source": [
    "from pyspark.sql import SparkSession\n",
    "spark = SparkSession.builder.appName(\"RDD_TO_DF_AND_DF_TO_RDD\").getOrCreate()"
   ]
  },
  {
   "cell_type": "code",
   "execution_count": 2,
   "metadata": {},
   "outputs": [],
   "source": [
    "sc = spark.sparkContext"
   ]
  },
  {
   "source": [
    "### Creating an RDD"
   ],
   "cell_type": "markdown",
   "metadata": {}
  },
  {
   "cell_type": "code",
   "execution_count": 3,
   "metadata": {},
   "outputs": [],
   "source": [
    "rdd_in = sc.textFile(\"marks.csv\")"
   ]
  },
  {
   "cell_type": "code",
   "execution_count": 4,
   "metadata": {},
   "outputs": [
    {
     "output_type": "execute_result",
     "data": {
      "text/plain": [
       "['ROLL_NO|GENDER|SUBJECT|MARKS_OBTAINED|TOTAL_MARKS',\n",
       " '1001|MALE|ENGLISH|84|100',\n",
       " '1001|MALE|Physics|65|100',\n",
       " '1001|MALE|Maths|45|100',\n",
       " '1001|MALE|Science|25|100',\n",
       " '1001|MALE|History|32|100',\n",
       " '1002|FEMALE|ENGLISH|84|100',\n",
       " '1002|FEMALE|Physics|64|100',\n",
       " '1002|FEMALE|Maths|45|100',\n",
       " '1002|FEMALE|Science|25|100',\n",
       " '1002|FEMALE|History|32|100']"
      ]
     },
     "metadata": {},
     "execution_count": 4
    }
   ],
   "source": [
    "rdd_in.collect()"
   ]
  },
  {
   "cell_type": "code",
   "execution_count": 5,
   "metadata": {},
   "outputs": [],
   "source": [
    "rdd_in_split_on_delimiter = rdd_in.map(lambda x:x.split(\"|\"))"
   ]
  },
  {
   "cell_type": "code",
   "execution_count": 6,
   "metadata": {},
   "outputs": [
    {
     "output_type": "execute_result",
     "data": {
      "text/plain": [
       "[['ROLL_NO', 'GENDER', 'SUBJECT', 'MARKS_OBTAINED', 'TOTAL_MARKS'],\n",
       " ['1001', 'MALE', 'ENGLISH', '84', '100'],\n",
       " ['1001', 'MALE', 'Physics', '65', '100'],\n",
       " ['1001', 'MALE', 'Maths', '45', '100'],\n",
       " ['1001', 'MALE', 'Science', '25', '100'],\n",
       " ['1001', 'MALE', 'History', '32', '100'],\n",
       " ['1002', 'FEMALE', 'ENGLISH', '84', '100'],\n",
       " ['1002', 'FEMALE', 'Physics', '64', '100'],\n",
       " ['1002', 'FEMALE', 'Maths', '45', '100'],\n",
       " ['1002', 'FEMALE', 'Science', '25', '100'],\n",
       " ['1002', 'FEMALE', 'History', '32', '100']]"
      ]
     },
     "metadata": {},
     "execution_count": 6
    }
   ],
   "source": [
    "rdd_in_split_on_delimiter.collect()"
   ]
  },
  {
   "cell_type": "code",
   "execution_count": 7,
   "metadata": {},
   "outputs": [],
   "source": [
    "header = rdd_in_split_on_delimiter.first()"
   ]
  },
  {
   "cell_type": "code",
   "execution_count": 8,
   "metadata": {},
   "outputs": [
    {
     "output_type": "execute_result",
     "data": {
      "text/plain": [
       "['ROLL_NO', 'GENDER', 'SUBJECT', 'MARKS_OBTAINED', 'TOTAL_MARKS']"
      ]
     },
     "metadata": {},
     "execution_count": 8
    }
   ],
   "source": [
    "header"
   ]
  },
  {
   "cell_type": "code",
   "execution_count": 11,
   "metadata": {},
   "outputs": [],
   "source": [
    "rdd_in_split_on_delimiter_header_removed = rdd_in_split_on_delimiter.filter(lambda line:line!=header)"
   ]
  },
  {
   "cell_type": "code",
   "execution_count": 12,
   "metadata": {},
   "outputs": [
    {
     "output_type": "execute_result",
     "data": {
      "text/plain": [
       "[['1001', 'MALE', 'ENGLISH', '84', '100'],\n",
       " ['1001', 'MALE', 'Physics', '65', '100'],\n",
       " ['1001', 'MALE', 'Maths', '45', '100'],\n",
       " ['1001', 'MALE', 'Science', '25', '100'],\n",
       " ['1001', 'MALE', 'History', '32', '100'],\n",
       " ['1002', 'FEMALE', 'ENGLISH', '84', '100'],\n",
       " ['1002', 'FEMALE', 'Physics', '64', '100'],\n",
       " ['1002', 'FEMALE', 'Maths', '45', '100'],\n",
       " ['1002', 'FEMALE', 'Science', '25', '100'],\n",
       " ['1002', 'FEMALE', 'History', '32', '100']]"
      ]
     },
     "metadata": {},
     "execution_count": 12
    }
   ],
   "source": [
    "rdd_in_split_on_delimiter_header_removed.collect()"
   ]
  },
  {
   "cell_type": "code",
   "execution_count": 13,
   "metadata": {},
   "outputs": [],
   "source": [
    "df_from_rdd = spark.createDataFrame(rdd_in_split_on_delimiter_header_removed,header)"
   ]
  },
  {
   "cell_type": "code",
   "execution_count": 14,
   "metadata": {},
   "outputs": [
    {
     "output_type": "stream",
     "name": "stdout",
     "text": [
      "root\n |-- ROLL_NO: string (nullable = true)\n |-- GENDER: string (nullable = true)\n |-- SUBJECT: string (nullable = true)\n |-- MARKS_OBTAINED: string (nullable = true)\n |-- TOTAL_MARKS: string (nullable = true)\n\n"
     ]
    }
   ],
   "source": [
    "df_from_rdd.printSchema()"
   ]
  },
  {
   "cell_type": "code",
   "execution_count": 15,
   "metadata": {},
   "outputs": [
    {
     "output_type": "stream",
     "name": "stdout",
     "text": [
      "+-------+------+-------+--------------+-----------+\n|ROLL_NO|GENDER|SUBJECT|MARKS_OBTAINED|TOTAL_MARKS|\n+-------+------+-------+--------------+-----------+\n|   1001|  MALE|ENGLISH|            84|        100|\n|   1001|  MALE|Physics|            65|        100|\n|   1001|  MALE|  Maths|            45|        100|\n|   1001|  MALE|Science|            25|        100|\n|   1001|  MALE|History|            32|        100|\n|   1002|FEMALE|ENGLISH|            84|        100|\n|   1002|FEMALE|Physics|            64|        100|\n|   1002|FEMALE|  Maths|            45|        100|\n|   1002|FEMALE|Science|            25|        100|\n|   1002|FEMALE|History|            32|        100|\n+-------+------+-------+--------------+-----------+\n\n"
     ]
    }
   ],
   "source": [
    "df_from_rdd.show()"
   ]
  },
  {
   "source": [
    "## Now converting DF to RDD"
   ],
   "cell_type": "markdown",
   "metadata": {}
  },
  {
   "cell_type": "code",
   "execution_count": 16,
   "metadata": {},
   "outputs": [],
   "source": [
    "rdd_from_df = df_from_rdd.rdd"
   ]
  },
  {
   "cell_type": "code",
   "execution_count": 17,
   "metadata": {},
   "outputs": [
    {
     "output_type": "execute_result",
     "data": {
      "text/plain": [
       "[Row(ROLL_NO='1001', GENDER='MALE', SUBJECT='ENGLISH', MARKS_OBTAINED='84', TOTAL_MARKS='100'),\n",
       " Row(ROLL_NO='1001', GENDER='MALE', SUBJECT='Physics', MARKS_OBTAINED='65', TOTAL_MARKS='100'),\n",
       " Row(ROLL_NO='1001', GENDER='MALE', SUBJECT='Maths', MARKS_OBTAINED='45', TOTAL_MARKS='100'),\n",
       " Row(ROLL_NO='1001', GENDER='MALE', SUBJECT='Science', MARKS_OBTAINED='25', TOTAL_MARKS='100'),\n",
       " Row(ROLL_NO='1001', GENDER='MALE', SUBJECT='History', MARKS_OBTAINED='32', TOTAL_MARKS='100'),\n",
       " Row(ROLL_NO='1002', GENDER='FEMALE', SUBJECT='ENGLISH', MARKS_OBTAINED='84', TOTAL_MARKS='100'),\n",
       " Row(ROLL_NO='1002', GENDER='FEMALE', SUBJECT='Physics', MARKS_OBTAINED='64', TOTAL_MARKS='100'),\n",
       " Row(ROLL_NO='1002', GENDER='FEMALE', SUBJECT='Maths', MARKS_OBTAINED='45', TOTAL_MARKS='100'),\n",
       " Row(ROLL_NO='1002', GENDER='FEMALE', SUBJECT='Science', MARKS_OBTAINED='25', TOTAL_MARKS='100'),\n",
       " Row(ROLL_NO='1002', GENDER='FEMALE', SUBJECT='History', MARKS_OBTAINED='32', TOTAL_MARKS='100')]"
      ]
     },
     "metadata": {},
     "execution_count": 17
    }
   ],
   "source": [
    "rdd_from_df.collect()"
   ]
  },
  {
   "cell_type": "code",
   "execution_count": null,
   "metadata": {},
   "outputs": [],
   "source": []
  }
 ]
}