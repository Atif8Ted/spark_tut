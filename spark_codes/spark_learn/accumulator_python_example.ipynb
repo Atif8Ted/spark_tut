{
 "metadata": {
  "language_info": {
   "codemirror_mode": {
    "name": "ipython",
    "version": 3
   },
   "file_extension": ".py",
   "mimetype": "text/x-python",
   "name": "python",
   "nbconvert_exporter": "python",
   "pygments_lexer": "ipython3",
   "version": "3.8.6-final"
  },
  "orig_nbformat": 2,
  "kernelspec": {
   "name": "python3",
   "display_name": "Python 3"
  }
 },
 "nbformat": 4,
 "nbformat_minor": 2,
 "cells": [
  {
   "cell_type": "code",
   "execution_count": 1,
   "metadata": {},
   "outputs": [
    {
     "output_type": "stream",
     "name": "stdout",
     "text": [
      "-rw-r--r-- 1 atif atif 401 Nov 15 21:30 input_1.json\n-rw-r--r-- 1 atif atif 479 Nov 17 23:42 nameage.json\n"
     ]
    }
   ],
   "source": [
    "!ls -ltr *.json"
   ]
  },
  {
   "cell_type": "code",
   "execution_count": 2,
   "metadata": {},
   "outputs": [],
   "source": [
    "from pyspark.sql import SparkSession\n",
    "spark = SparkSession.builder.appName(\"Accumulator_app\").getOrCreate()"
   ]
  },
  {
   "cell_type": "code",
   "execution_count": 3,
   "metadata": {},
   "outputs": [],
   "source": [
    "sc = spark.sparkContext"
   ]
  },
  {
   "cell_type": "code",
   "execution_count": 4,
   "metadata": {},
   "outputs": [],
   "source": [
    "df = spark.read.option(\"inferschema\",\"true\").json(\"nameage.json\")"
   ]
  },
  {
   "cell_type": "code",
   "execution_count": 5,
   "metadata": {},
   "outputs": [
    {
     "output_type": "stream",
     "name": "stdout",
     "text": [
      "+---+-------+\n|Age|name   |\n+---+-------+\n|31 |Alex   |\n|1  |Anwar  |\n|89 |Senthil|\n|25 |Azar   |\n|55 |Elil   |\n|11 |George |\n|18 |Mike   |\n|21 |Mark   |\n|19 |Taj    |\n|16 |Thaha  |\n|46 |Suresh |\n|72 |Hussey |\n|35 |gary   |\n|45 |Clara  |\n|19 |Thara  |\n|34 |Radha  |\n|3  |Badri  |\n|14 |Thaha  |\n+---+-------+\n\n"
     ]
    }
   ],
   "source": [
    "df.show(truncate=0)"
   ]
  },
  {
   "source": [
    "## Our requirement : Get count of all the age <18"
   ],
   "cell_type": "markdown",
   "metadata": {}
  },
  {
   "cell_type": "code",
   "execution_count": 45,
   "metadata": {},
   "outputs": [],
   "source": [
    "accumulator_var = sc.accumulator(value=0)"
   ]
  },
  {
   "cell_type": "code",
   "execution_count": 46,
   "metadata": {},
   "outputs": [
    {
     "output_type": "execute_result",
     "data": {
      "text/plain": [
       "0"
      ]
     },
     "metadata": {},
     "execution_count": 46
    }
   ],
   "source": [
    "accumulator_var.value"
   ]
  },
  {
   "cell_type": "code",
   "execution_count": 47,
   "metadata": {},
   "outputs": [],
   "source": [
    "from pyspark.accumulators import AccumulatorParam"
   ]
  },
  {
   "cell_type": "code",
   "execution_count": 48,
   "metadata": {},
   "outputs": [],
   "source": [
    "# Create a custom accumulator for string concatenation\n",
    "# Contrived example -- see recipe for caveats.\n",
    "class StringAccumulatorParam(AccumulatorParam):\n",
    "    def zero(self, initialValue=\" \"):\n",
    "        return \" \"\n",
    " \n",
    "    def addInPlace(self, s1, s2):\n",
    "        return s1.strip() + \" \" + s2.strip()"
   ]
  },
  {
   "cell_type": "code",
   "execution_count": 49,
   "metadata": {},
   "outputs": [],
   "source": [
    "countervalue = sc.accumulator(\" \",StringAccumulatorParam())"
   ]
  },
  {
   "cell_type": "code",
   "execution_count": 50,
   "metadata": {},
   "outputs": [],
   "source": [
    "def validate(row):\n",
    "    age =row.Age\n",
    "    if age <18:\n",
    "        accumulator_var.add(1)\n",
    "        countervalue.add(str(age))\n"
   ]
  },
  {
   "cell_type": "code",
   "execution_count": 34,
   "metadata": {},
   "outputs": [],
   "source": [
    "countervalue = sc.accumulator(\" \",StringAccumulatorParam)"
   ]
  },
  {
   "cell_type": "code",
   "execution_count": 52,
   "metadata": {},
   "outputs": [
    {
     "output_type": "execute_result",
     "data": {
      "text/plain": [
       "5"
      ]
     },
     "metadata": {},
     "execution_count": 52
    }
   ],
   "source": [
    "accumulator_var.value"
   ]
  },
  {
   "cell_type": "code",
   "execution_count": 51,
   "metadata": {},
   "outputs": [],
   "source": [
    "df.foreach(lambda x:validate(x))"
   ]
  }
 ]
}