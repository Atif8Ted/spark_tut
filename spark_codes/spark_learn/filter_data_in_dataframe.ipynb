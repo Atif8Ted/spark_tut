{
 "metadata": {
  "language_info": {
   "codemirror_mode": {
    "name": "ipython",
    "version": 3
   },
   "file_extension": ".py",
   "mimetype": "text/x-python",
   "name": "python",
   "nbconvert_exporter": "python",
   "pygments_lexer": "ipython3",
   "version": "3.8.6-final"
  },
  "orig_nbformat": 2,
  "kernelspec": {
   "name": "python3",
   "display_name": "Python 3"
  }
 },
 "nbformat": 4,
 "nbformat_minor": 2,
 "cells": [
  {
   "cell_type": "code",
   "execution_count": 4,
   "metadata": {},
   "outputs": [
    {
     "output_type": "stream",
     "name": "stdout",
     "text": [
      "-rw-r--r-- 1 atif atif 5769361 Nov 14 21:17 weatherHistory.csv\n-rw-r--r-- 1 atif atif     305 Nov 15 15:48 marks.csv\n"
     ]
    }
   ],
   "source": [
    "!ls -ltr *.csv"
   ]
  },
  {
   "cell_type": "code",
   "execution_count": 2,
   "metadata": {},
   "outputs": [],
   "source": [
    "from pyspark.sql import SparkSession\n",
    "spark = SparkSession.builder.appName(\"Data_filter\").getOrCreate()"
   ]
  },
  {
   "cell_type": "code",
   "execution_count": 3,
   "metadata": {},
   "outputs": [],
   "source": [
    "sc = SparkSession.sparkContext"
   ]
  },
  {
   "cell_type": "code",
   "execution_count": 6,
   "metadata": {},
   "outputs": [],
   "source": [
    "df_in = spark.read.csv('marks.csv',header=True,sep='|')"
   ]
  },
  {
   "cell_type": "code",
   "execution_count": 7,
   "metadata": {},
   "outputs": [
    {
     "output_type": "stream",
     "name": "stdout",
     "text": [
      "+-------+------+-------+--------------+-----------+\n|ROLL_NO|GENDER|SUBJECT|MARKS_OBTAINED|TOTAL_MARKS|\n+-------+------+-------+--------------+-----------+\n|   1001|  MALE|ENGLISH|            84|        100|\n|   1001|  MALE|Physics|            65|        100|\n|   1001|  MALE|  Maths|            45|        100|\n|   1001|  MALE|Science|            25|        100|\n|   1001|  MALE|History|            32|        100|\n|   1002|FEMALE|ENGLISH|            84|        100|\n|   1002|FEMALE|Physics|            64|        100|\n|   1002|FEMALE|  Maths|            45|        100|\n|   1002|FEMALE|Science|            25|        100|\n|   1002|FEMALE|History|            32|        100|\n+-------+------+-------+--------------+-----------+\n\n"
     ]
    }
   ],
   "source": [
    "df_in.show(10)"
   ]
  },
  {
   "source": [
    "### Method 1 : Using temp view"
   ],
   "cell_type": "markdown",
   "metadata": {}
  },
  {
   "cell_type": "code",
   "execution_count": 8,
   "metadata": {},
   "outputs": [],
   "source": [
    "# Filtering roll_no where marks is greater than 32"
   ]
  },
  {
   "cell_type": "code",
   "execution_count": 9,
   "metadata": {},
   "outputs": [],
   "source": [
    "df_in.registerTempTable(\"marks_temp_view\")\n"
   ]
  },
  {
   "cell_type": "code",
   "execution_count": 10,
   "metadata": {},
   "outputs": [],
   "source": [
    "df_filter = spark.sql(\"select * from marks_temp_view where  MARKS_OBTAINED>32\")"
   ]
  },
  {
   "cell_type": "code",
   "execution_count": 11,
   "metadata": {},
   "outputs": [
    {
     "output_type": "stream",
     "name": "stdout",
     "text": [
      "+-------+------+-------+--------------+-----------+\n|ROLL_NO|GENDER|SUBJECT|MARKS_OBTAINED|TOTAL_MARKS|\n+-------+------+-------+--------------+-----------+\n|   1001|  MALE|ENGLISH|            84|        100|\n|   1001|  MALE|Physics|            65|        100|\n|   1001|  MALE|  Maths|            45|        100|\n|   1002|FEMALE|ENGLISH|            84|        100|\n|   1002|FEMALE|Physics|            64|        100|\n|   1002|FEMALE|  Maths|            45|        100|\n+-------+------+-------+--------------+-----------+\n\n"
     ]
    }
   ],
   "source": [
    "df_filter.show()"
   ]
  },
  {
   "source": [
    "## Method 2 : Using filter () API"
   ],
   "cell_type": "markdown",
   "metadata": {}
  },
  {
   "cell_type": "code",
   "execution_count": 12,
   "metadata": {},
   "outputs": [],
   "source": [
    "df_filter_api = df_in.filter(\"marks_obtained > 32\")"
   ]
  },
  {
   "cell_type": "code",
   "execution_count": 13,
   "metadata": {},
   "outputs": [
    {
     "output_type": "stream",
     "name": "stdout",
     "text": [
      "+-------+------+-------+--------------+-----------+\n|ROLL_NO|GENDER|SUBJECT|MARKS_OBTAINED|TOTAL_MARKS|\n+-------+------+-------+--------------+-----------+\n|   1001|  MALE|ENGLISH|            84|        100|\n|   1001|  MALE|Physics|            65|        100|\n|   1001|  MALE|  Maths|            45|        100|\n|   1002|FEMALE|ENGLISH|            84|        100|\n|   1002|FEMALE|Physics|            64|        100|\n|   1002|FEMALE|  Maths|            45|        100|\n+-------+------+-------+--------------+-----------+\n\n"
     ]
    }
   ],
   "source": [
    "df_filter_api.show()"
   ]
  },
  {
   "source": [
    "## Using multiple conditon "
   ],
   "cell_type": "code",
   "metadata": {},
   "execution_count": 14,
   "outputs": []
  },
  {
   "cell_type": "code",
   "execution_count": 15,
   "metadata": {},
   "outputs": [],
   "source": [
    "df_fileter_api_multi_cond = df_in.filter(\"marks_obtained >32 and gender ='MALE'\")"
   ]
  },
  {
   "cell_type": "code",
   "execution_count": 16,
   "metadata": {},
   "outputs": [
    {
     "output_type": "stream",
     "name": "stdout",
     "text": [
      "+-------+------+-------+--------------+-----------+\n|ROLL_NO|GENDER|SUBJECT|MARKS_OBTAINED|TOTAL_MARKS|\n+-------+------+-------+--------------+-----------+\n|   1001|  MALE|ENGLISH|            84|        100|\n|   1001|  MALE|Physics|            65|        100|\n|   1001|  MALE|  Maths|            45|        100|\n+-------+------+-------+--------------+-----------+\n\n"
     ]
    }
   ],
   "source": [
    "df_fileter_api_multi_cond.show()"
   ]
  },
  {
   "cell_type": "code",
   "execution_count": null,
   "metadata": {},
   "outputs": [],
   "source": []
  }
 ]
}